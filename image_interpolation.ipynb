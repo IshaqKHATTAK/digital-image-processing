{
  "nbformat": 4,
  "nbformat_minor": 0,
  "metadata": {
    "colab": {
      "provenance": [],
      "authorship_tag": "ABX9TyMBcCkuEYqbRHMhFKK9Lujw",
      "include_colab_link": true
    },
    "kernelspec": {
      "name": "python3",
      "display_name": "Python 3"
    },
    "language_info": {
      "name": "python"
    }
  },
  "cells": [
    {
      "cell_type": "markdown",
      "metadata": {
        "id": "view-in-github",
        "colab_type": "text"
      },
      "source": [
        "<a href=\"https://colab.research.google.com/github/IshaqKHATTAK/digital-image-processing/blob/main/image_interpolation.ipynb\" target=\"_parent\"><img src=\"https://colab.research.google.com/assets/colab-badge.svg\" alt=\"Open In Colab\"/></a>"
      ]
    },
    {
      "cell_type": "code",
      "source": [
        "%matplotlib inline\n",
        "import numpy as np\n",
        "import matplotlib.pyplot as plt"
      ],
      "metadata": {
        "id": "QxvE_Bb6YYNy"
      },
      "execution_count": 2,
      "outputs": []
    },
    {
      "cell_type": "code",
      "execution_count": 3,
      "metadata": {
        "id": "1g55GxPgYU2T"
      },
      "outputs": [],
      "source": [
        "#for upscaling the image enter the scale values in whole numbers\n",
        "#for downscaling the image enter the scale value between [0 , 1)\n",
        "\n",
        "\n",
        "def resize_image(img , x_scale , y_scale):\n",
        "    x , y , _= img.shape\n",
        "    new_img = np.zeros((int(x_scale * x) , int(y_scale * y) , 3))\n",
        "    print(new_img.shape)\n",
        "    for i in range(int(x_scale * x)):\n",
        "        for j in range(int(y_scale * y)):\n",
        "            new_img[i , j , : ] = img[i // int(x_scale) , j // int(y_scale) , :]\n",
        "    return new_img\n",
        "\n"
      ]
    },
    {
      "cell_type": "code",
      "source": [
        "img = plt.imread('/content/pastine_flag.jpg')\n",
        "x_scale , y_scale = list(map(float , input('Enter the scaling ratios : ').split()))\n",
        "new_img = resize_image(img , x_scale , y_scale)\n",
        "plt.subplot(1 , 2 , 1)\n",
        "plt.imshow(img)\n",
        "plt.title('original')\n",
        "plt.subplot(1 , 2 , 2)\n",
        "plt.imshow(new_img)\n",
        "plt.title('resized')"
      ],
      "metadata": {
        "colab": {
          "base_uri": "https://localhost:8080/",
          "height": 303
        },
        "id": "biWHUkPIYeeg",
        "outputId": "49a9c3f2-470a-4822-bb2c-ec106cb523f2"
      },
      "execution_count": 10,
      "outputs": [
        {
          "output_type": "stream",
          "name": "stdout",
          "text": [
            "Enter the scaling ratios : 2 2\n",
            "(714, 1224, 3)\n"
          ]
        },
        {
          "output_type": "stream",
          "name": "stderr",
          "text": [
            "WARNING:matplotlib.image:Clipping input data to the valid range for imshow with RGB data ([0..1] for floats or [0..255] for integers).\n"
          ]
        },
        {
          "output_type": "execute_result",
          "data": {
            "text/plain": [
              "Text(0.5, 1.0, 'resized')"
            ]
          },
          "metadata": {},
          "execution_count": 10
        },
        {
          "output_type": "display_data",
          "data": {
            "text/plain": [
              "<Figure size 640x480 with 2 Axes>"
            ],
            "image/png": "[encoded data removed]"
          },
          "metadata": {}
        }
      ]
    },
    {
      "cell_type": "code",
      "source": [],
      "metadata": {
        "id": "-WRXrrZ0Yw6H"
      },
      "execution_count": null,
      "outputs": []
    }
  ]
}